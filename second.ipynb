{
 "cells": [
  {
   "cell_type": "code",
   "execution_count": 4,
   "metadata": {},
   "outputs": [
    {
     "name": "stdout",
     "output_type": "stream",
     "text": [
      "1692361888\n",
      "98307392\n",
      "1692361968\n",
      "1692361968\n"
     ]
    }
   ],
   "source": [
    "num=5\n",
    "print(id(num))\n",
    "name='athul'\n",
    "print(id(name))\n",
    "a=10\n",
    "print(id(a))\n",
    "b=10\n",
    "print(id(b))"
   ]
  },
  {
   "cell_type": "markdown",
   "metadata": {},
   "source": [
    "#loop"
   ]
  },
  {
   "cell_type": "code",
   "execution_count": 3,
   "metadata": {},
   "outputs": [
    {
     "name": "stdout",
     "output_type": "stream",
     "text": [
      "0\n",
      "2\n",
      "4\n",
      "6\n",
      "8\n"
     ]
    }
   ],
   "source": [
    "for a in range(0,10,2):\n",
    "    print(a)     \n",
    "\n"
   ]
  },
  {
   "cell_type": "code",
   "execution_count": 6,
   "metadata": {},
   "outputs": [
    {
     "name": "stdout",
     "output_type": "stream",
     "text": [
      "no.1 square is 1 cube is 1\n",
      "no.2 square is 4 cube is 8\n",
      "no.3 square is 9 cube is 27\n",
      "no.4 square is 16 cube is 64\n",
      "no.5 square is 25 cube is 125\n",
      "no.6 square is 36 cube is 216\n",
      "no.7 square is 49 cube is 343\n",
      "no.8 square is 64 cube is 512\n",
      "no.9 square is 81 cube is 729\n",
      "no.10 square is 100 cube is 1000\n",
      "no.11 square is 121 cube is 1331\n"
     ]
    }
   ],
   "source": [
    "for var in range(1,12):\n",
    "    print(\"no.{} square is {} cube is {}\".format(var,var**2,var**3))"
   ]
  },
  {
   "cell_type": "code",
   "execution_count": 11,
   "metadata": {},
   "outputs": [
    {
     "name": "stdout",
     "output_type": "stream",
     "text": [
      "hi guys\n"
     ]
    }
   ],
   "source": [
    "#function\n",
    "def function1():\n",
    "    print(\"hi guys\")\n",
    "\n",
    "function1()"
   ]
  },
  {
   "cell_type": "code",
   "execution_count": 12,
   "metadata": {},
   "outputs": [
    {
     "name": "stdout",
     "output_type": "stream",
     "text": [
      "enter first number10\n",
      "enter second number20\n",
      "sum = 30\n"
     ]
    }
   ],
   "source": [
    "#1. function without arg and return type\n",
    "def add():\n",
    "    var1=int(input(\"enter first number\"))\n",
    "    var2=int(input(\"enter second number\"))\n",
    "    var3=var1+var2\n",
    "    print(\"sum =\",var3)\n",
    "    \n",
    "add()\n"
   ]
  },
  {
   "cell_type": "code",
   "execution_count": 13,
   "metadata": {},
   "outputs": [
    {
     "name": "stdout",
     "output_type": "stream",
     "text": [
      "enter first number10\n",
      "enter second number20\n",
      "30\n"
     ]
    }
   ],
   "source": [
    "#2.function without arg and with return type\n",
    "def add():\n",
    "    var1=int(input(\"enter first number\"))\n",
    "    var2=int(input(\"enter second number\"))\n",
    "    var3=var1+var2\n",
    "    return(var3) \n",
    "print(add())"
   ]
  },
  {
   "cell_type": "code",
   "execution_count": 20,
   "metadata": {},
   "outputs": [
    {
     "name": "stdout",
     "output_type": "stream",
     "text": [
      "enter first number10\n",
      "enter second number20\n",
      "30\n"
     ]
    }
   ],
   "source": [
    "#3.function with arg without return type\n",
    "def add(a,b):\n",
    "    var3=a+b\n",
    "    print(var3)\n",
    "    \n",
    "x=int(input(\"enter first number\"))\n",
    "y=int(input(\"enter second number\"))\n",
    "add(x,y)\n"
   ]
  },
  {
   "cell_type": "code",
   "execution_count": 21,
   "metadata": {},
   "outputs": [
    {
     "name": "stdout",
     "output_type": "stream",
     "text": [
      "enter first number10\n",
      "enter second number20\n",
      "30\n"
     ]
    }
   ],
   "source": [
    "#4.function with arg and with return type\n",
    "def add():\n",
    "    var1=int(input(\"enter first number\"))\n",
    "    var2=int(input(\"enter second number\"))\n",
    "    var3=var1+var2\n",
    "    return(var3) \n",
    "print(add())"
   ]
  },
  {
   "cell_type": "code",
   "execution_count": null,
   "metadata": {},
   "outputs": [],
   "source": []
  }
 ],
 "metadata": {
  "kernelspec": {
   "display_name": "Python 3",
   "language": "python",
   "name": "python3"
  },
  "language_info": {
   "codemirror_mode": {
    "name": "ipython",
    "version": 3
   },
   "file_extension": ".py",
   "mimetype": "text/x-python",
   "name": "python",
   "nbconvert_exporter": "python",
   "pygments_lexer": "ipython3",
   "version": "3.7.3"
  }
 },
 "nbformat": 4,
 "nbformat_minor": 2
}
