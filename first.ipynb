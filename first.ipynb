{
 "cells": [
  {
   "cell_type": "code",
   "execution_count": 1,
   "metadata": {},
   "outputs": [
    {
     "name": "stdout",
     "output_type": "stream",
     "text": [
      "hallo world\n"
     ]
    }
   ],
   "source": [
    "print(\"hallo world\")\n"
   ]
  },
  {
   "cell_type": "code",
   "execution_count": 11,
   "metadata": {},
   "outputs": [
    {
     "name": "stdout",
     "output_type": "stream",
     "text": [
      "enter a number10\n",
      "enter second number20\n",
      "<class 'int'>\n",
      "<class 'int'>\n",
      "30\n",
      "-10\n",
      "200\n",
      "0\n"
     ]
    }
   ],
   "source": [
    "a=int(input(\"enter a number\"))\n",
    "b=int(input(\"enter second number\"))\n",
    "print(type(a))\n",
    "print(type(b))\n",
    "c=a+b\n",
    "d=a-b\n",
    "e=a*b\n",
    "f=a//b\n",
    "print(c)\n",
    "print(d)\n",
    "print(e)\n",
    "print(f)\n"
   ]
  },
  {
   "cell_type": "code",
   "execution_count": 15,
   "metadata": {},
   "outputs": [
    {
     "name": "stdout",
     "output_type": "stream",
     "text": [
      "athul's \"laptop\"\n"
     ]
    }
   ],
   "source": [
    "print('athul\\'s \"laptop\"')"
   ]
  },
  {
   "cell_type": "code",
   "execution_count": 17,
   "metadata": {},
   "outputs": [
    {
     "data": {
      "text/plain": [
       "'navinnavinnavinnavinnavinnavinnavinnavinnavinnavin'"
      ]
     },
     "execution_count": 17,
     "metadata": {},
     "output_type": "execute_result"
    }
   ],
   "source": [
    "10*'navin'"
   ]
  },
  {
   "cell_type": "code",
   "execution_count": 18,
   "metadata": {},
   "outputs": [
    {
     "name": "stdout",
     "output_type": "stream",
     "text": [
      "c:\\docs\n",
      "avin\n"
     ]
    }
   ],
   "source": [
    "print('c:\\docs\\navin')"
   ]
  },
  {
   "cell_type": "code",
   "execution_count": 19,
   "metadata": {},
   "outputs": [
    {
     "name": "stdout",
     "output_type": "stream",
     "text": [
      "c:\\docs\\navin\n"
     ]
    }
   ],
   "source": [
    "print(r'c:\\docs\\navin')"
   ]
  },
  {
   "cell_type": "code",
   "execution_count": 25,
   "metadata": {},
   "outputs": [
    {
     "name": "stdout",
     "output_type": "stream",
     "text": [
      "20\n"
     ]
    }
   ],
   "source": [
    "x=int(10)\n",
    "x+int(20)\n",
    "y=x+int(10)\n",
    "print(y)"
   ]
  },
  {
   "cell_type": "code",
   "execution_count": 3,
   "metadata": {},
   "outputs": [],
   "source": [
    "##lists"
   ]
  },
  {
   "cell_type": "code",
   "execution_count": 15,
   "metadata": {},
   "outputs": [
    {
     "name": "stdout",
     "output_type": "stream",
     "text": [
      "[25, 12, 36, 95, 14]\n",
      "25\n",
      "[36, 95, 14]\n",
      "95\n",
      "['navin', 'kiran', 'john']\n",
      "[9.5, 'navin', 25]\n"
     ]
    }
   ],
   "source": [
    "nums=[25,12,36,95,14]\n",
    "print(nums)\n",
    "print(nums[0])\n",
    "print(nums[2:])\n",
    "print(nums[-2])\n",
    "names=['navin','kiran','john']\n",
    "print(names)\n",
    "values=[9.5,'navin',25]\n",
    "print(values)"
   ]
  },
  {
   "cell_type": "code",
   "execution_count": 40,
   "metadata": {},
   "outputs": [
    {
     "name": "stdout",
     "output_type": "stream",
     "text": [
      "[[12, 12, 29, 33, 43], [9.5, 'navin', 25]]\n",
      "[12, 12, 29, 33, 43]\n",
      "[12, 12, 29, 33, 43, 45]\n",
      "[12, 12, 77, 29, 33, 43, 45]\n",
      "[12, 12, 29, 33, 43, 45]\n",
      "[12, 12, 33, 43, 45]\n",
      "[12, 12]\n",
      "[12, 12, 29, 33, 43, 12]\n",
      "12\n",
      "43\n",
      "[12, 12, 29, 33, 43, 12]\n",
      "None\n",
      "[12, 12, 29, 33, 43]\n",
      "[12, 12, 29, 33, 43]\n",
      "[12, 98, 43, 22]\n",
      "[12, 22, 43, 98]\n"
     ]
    }
   ],
   "source": [
    "##lists inside list\n",
    "mil=[nums,values]\n",
    "print(mil)\n",
    "##append\n",
    "print(nums)\n",
    "nums.append(45)\n",
    "print(nums)\n",
    "##insert\n",
    "nums.insert(2,77)\n",
    "print(nums)\n",
    "##remove\n",
    "nums.remove(77)\n",
    "print(nums)\n",
    "##pop\n",
    "nums.pop(2)\n",
    "print(nums)\n",
    "##delete\n",
    "del nums[2:]\n",
    "print(nums)\n",
    "##extend\n",
    "nums.extend([29,33,43,12])\n",
    "print(nums)\n",
    "##min\n",
    "print(min(nums))\n",
    "##max\n",
    "print(max(nums))\n",
    "print(nums)\n",
    "\n",
    "val=[12,98,43,22]\n",
    "print(val)\n",
    "val.sort()\n",
    "print(val)"
   ]
  },
  {
   "cell_type": "code",
   "execution_count": null,
   "metadata": {},
   "outputs": [],
   "source": [
    "##tuple\n",
    "##we cannot change the value"
   ]
  },
  {
   "cell_type": "code",
   "execution_count": 49,
   "metadata": {},
   "outputs": [
    {
     "name": "stdout",
     "output_type": "stream",
     "text": [
      "(21, 36, 14, 25)\n",
      "21\n",
      "2\n",
      "2\n"
     ]
    }
   ],
   "source": [
    "tup=(21,36,14,25)\n",
    "print(tup)\n",
    "print(tup[0])\n",
    "tupp=(21,34,76,21)\n",
    "print(tupp.count(21))\n",
    "print(tupp.index(76))"
   ]
  },
  {
   "cell_type": "code",
   "execution_count": null,
   "metadata": {},
   "outputs": [],
   "source": [
    "##set\n",
    "##collection of unique element"
   ]
  },
  {
   "cell_type": "code",
   "execution_count": 52,
   "metadata": {},
   "outputs": [
    {
     "name": "stdout",
     "output_type": "stream",
     "text": [
      "{5, 14, 21, 22, 25}\n"
     ]
    }
   ],
   "source": [
    "s={22,25,14,21,5,22}\n",
    "print(s)\n",
    "##indexing not supported\n"
   ]
  }
 ],
 "metadata": {
  "kernelspec": {
   "display_name": "Python 3",
   "language": "python",
   "name": "python3"
  },
  "language_info": {
   "codemirror_mode": {
    "name": "ipython",
    "version": 3
   },
   "file_extension": ".py",
   "mimetype": "text/x-python",
   "name": "python",
   "nbconvert_exporter": "python",
   "pygments_lexer": "ipython3",
   "version": "3.7.3"
  }
 },
 "nbformat": 4,
 "nbformat_minor": 2
}
